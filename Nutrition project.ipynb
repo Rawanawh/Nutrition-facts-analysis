{
 "cells": [
  {
   "cell_type": "code",
   "execution_count": 1,
   "id": "5be9f6ef",
   "metadata": {},
   "outputs": [],
   "source": [
    "\n",
    "import pandas as pd \n",
    "import seaborn as sns\n",
    "import matplotlib.pyplot as plt\n",
    "%matplotlib inline\n",
    "\n",
    "\n",
    "\n",
    "\n",
    "from PIL import Image\n",
    "import os\n",
    "\n",
    "\n",
    "\n",
    "from sklearn.preprocessing import StandardScaler, MinMaxScaler\n",
    "from sklearn.mixture import GaussianMixture\n",
    "from sklearn.model_selection import train_test_split\n",
    "\n",
    "from scipy.stats import boxcox\n",
    "\n",
    "import warnings\n",
    "warnings.filterwarnings(\"ignore\", category=DeprecationWarning)\n",
    "warnings.filterwarnings(\"ignore\", category=FutureWarning)\n",
    "warnings.filterwarnings(\"ignore\", category=UserWarning)\n"
   ]
  },
  {
   "cell_type": "code",
   "execution_count": 2,
   "id": "0bba9ad7",
   "metadata": {},
   "outputs": [
    {
     "data": {
      "text/html": [
       "<div>\n",
       "<style scoped>\n",
       "    .dataframe tbody tr th:only-of-type {\n",
       "        vertical-align: middle;\n",
       "    }\n",
       "\n",
       "    .dataframe tbody tr th {\n",
       "        vertical-align: top;\n",
       "    }\n",
       "\n",
       "    .dataframe thead th {\n",
       "        text-align: right;\n",
       "    }\n",
       "</style>\n",
       "<table border=\"1\" class=\"dataframe\">\n",
       "  <thead>\n",
       "    <tr style=\"text-align: right;\">\n",
       "      <th></th>\n",
       "      <th>Food</th>\n",
       "      <th>Measure</th>\n",
       "      <th>Grams</th>\n",
       "      <th>Calories</th>\n",
       "      <th>Protein</th>\n",
       "      <th>Fat</th>\n",
       "      <th>Sat.Fat</th>\n",
       "      <th>Fiber</th>\n",
       "      <th>Carbs</th>\n",
       "      <th>Category</th>\n",
       "    </tr>\n",
       "  </thead>\n",
       "  <tbody>\n",
       "    <tr>\n",
       "      <th>0</th>\n",
       "      <td>Cows' milk</td>\n",
       "      <td>1 qt.</td>\n",
       "      <td>976</td>\n",
       "      <td>660</td>\n",
       "      <td>32</td>\n",
       "      <td>40</td>\n",
       "      <td>36</td>\n",
       "      <td>0</td>\n",
       "      <td>48</td>\n",
       "      <td>Dairy products</td>\n",
       "    </tr>\n",
       "    <tr>\n",
       "      <th>1</th>\n",
       "      <td>Milk skim</td>\n",
       "      <td>1 qt.</td>\n",
       "      <td>984</td>\n",
       "      <td>360</td>\n",
       "      <td>36</td>\n",
       "      <td>t</td>\n",
       "      <td>t</td>\n",
       "      <td>0</td>\n",
       "      <td>52</td>\n",
       "      <td>Dairy products</td>\n",
       "    </tr>\n",
       "    <tr>\n",
       "      <th>2</th>\n",
       "      <td>Buttermilk</td>\n",
       "      <td>1 cup</td>\n",
       "      <td>246</td>\n",
       "      <td>127</td>\n",
       "      <td>9</td>\n",
       "      <td>5</td>\n",
       "      <td>4</td>\n",
       "      <td>0</td>\n",
       "      <td>13</td>\n",
       "      <td>Dairy products</td>\n",
       "    </tr>\n",
       "    <tr>\n",
       "      <th>3</th>\n",
       "      <td>Evaporated, undiluted</td>\n",
       "      <td>1 cup</td>\n",
       "      <td>252</td>\n",
       "      <td>345</td>\n",
       "      <td>16</td>\n",
       "      <td>20</td>\n",
       "      <td>18</td>\n",
       "      <td>0</td>\n",
       "      <td>24</td>\n",
       "      <td>Dairy products</td>\n",
       "    </tr>\n",
       "    <tr>\n",
       "      <th>4</th>\n",
       "      <td>Fortified milk</td>\n",
       "      <td>6 cups</td>\n",
       "      <td>1,419</td>\n",
       "      <td>1,373</td>\n",
       "      <td>89</td>\n",
       "      <td>42</td>\n",
       "      <td>23</td>\n",
       "      <td>1.4</td>\n",
       "      <td>119</td>\n",
       "      <td>Dairy products</td>\n",
       "    </tr>\n",
       "  </tbody>\n",
       "</table>\n",
       "</div>"
      ],
      "text/plain": [
       "                    Food Measure  Grams Calories Protein Fat Sat.Fat Fiber  \\\n",
       "0             Cows' milk   1 qt.    976      660      32  40      36     0   \n",
       "1              Milk skim   1 qt.    984      360      36   t       t     0   \n",
       "2             Buttermilk   1 cup    246      127       9   5       4     0   \n",
       "3  Evaporated, undiluted   1 cup    252      345      16  20      18     0   \n",
       "4         Fortified milk  6 cups  1,419    1,373      89  42      23   1.4   \n",
       "\n",
       "  Carbs        Category  \n",
       "0    48  Dairy products  \n",
       "1    52  Dairy products  \n",
       "2    13  Dairy products  \n",
       "3    24  Dairy products  \n",
       "4   119  Dairy products  "
      ]
     },
     "execution_count": 2,
     "metadata": {},
     "output_type": "execute_result"
    }
   ],
   "source": [
    "data= pd.read_csv(\"./data/nutrients_csvfile.csv\")\n",
    "\n",
    "data.head()\n"
   ]
  },
  {
   "cell_type": "code",
   "execution_count": 3,
   "id": "4dff20be",
   "metadata": {},
   "outputs": [
    {
     "data": {
      "text/plain": [
       "(335, 10)"
      ]
     },
     "execution_count": 3,
     "metadata": {},
     "output_type": "execute_result"
    }
   ],
   "source": [
    "data.shape"
   ]
  },
  {
   "cell_type": "code",
   "execution_count": 4,
   "id": "d875e0fb",
   "metadata": {},
   "outputs": [
    {
     "data": {
      "text/plain": [
       "Index(['Food', 'Measure', 'Grams', 'Calories', 'Protein', 'Fat', 'Sat.Fat',\n",
       "       'Fiber', 'Carbs', 'Category'],\n",
       "      dtype='object')"
      ]
     },
     "execution_count": 4,
     "metadata": {},
     "output_type": "execute_result"
    }
   ],
   "source": [
    "data.columns"
   ]
  },
  {
   "cell_type": "code",
   "execution_count": 5,
   "id": "93f94ec6",
   "metadata": {},
   "outputs": [
    {
     "name": "stdout",
     "output_type": "stream",
     "text": [
      "<class 'pandas.core.frame.DataFrame'>\n",
      "RangeIndex: 335 entries, 0 to 334\n",
      "Data columns (total 10 columns):\n",
      " #   Column    Non-Null Count  Dtype \n",
      "---  ------    --------------  ----- \n",
      " 0   Food      335 non-null    object\n",
      " 1   Measure   335 non-null    object\n",
      " 2   Grams     335 non-null    object\n",
      " 3   Calories  334 non-null    object\n",
      " 4   Protein   335 non-null    object\n",
      " 5   Fat       335 non-null    object\n",
      " 6   Sat.Fat   333 non-null    object\n",
      " 7   Fiber     335 non-null    object\n",
      " 8   Carbs     335 non-null    object\n",
      " 9   Category  335 non-null    object\n",
      "dtypes: object(10)\n",
      "memory usage: 26.3+ KB\n"
     ]
    }
   ],
   "source": [
    "data.info()"
   ]
  },
  {
   "cell_type": "code",
   "execution_count": 6,
   "id": "00a2a817",
   "metadata": {},
   "outputs": [
    {
     "data": {
      "text/plain": [
       "Food        0\n",
       "Measure     0\n",
       "Grams       0\n",
       "Calories    1\n",
       "Protein     0\n",
       "Fat         0\n",
       "Sat.Fat     2\n",
       "Fiber       0\n",
       "Carbs       0\n",
       "Category    0\n",
       "dtype: int64"
      ]
     },
     "execution_count": 6,
     "metadata": {},
     "output_type": "execute_result"
    }
   ],
   "source": [
    "data.isnull().sum()"
   ]
  },
  {
   "cell_type": "code",
   "execution_count": 7,
   "id": "fb30a0df",
   "metadata": {},
   "outputs": [
    {
     "data": {
      "text/plain": [
       "0"
      ]
     },
     "execution_count": 7,
     "metadata": {},
     "output_type": "execute_result"
    }
   ],
   "source": [
    "data.duplicated().sum()"
   ]
  },
  {
   "cell_type": "code",
   "execution_count": 8,
   "id": "8d80d99a",
   "metadata": {},
   "outputs": [
    {
     "data": {
      "text/html": [
       "<div>\n",
       "<style scoped>\n",
       "    .dataframe tbody tr th:only-of-type {\n",
       "        vertical-align: middle;\n",
       "    }\n",
       "\n",
       "    .dataframe tbody tr th {\n",
       "        vertical-align: top;\n",
       "    }\n",
       "\n",
       "    .dataframe thead th {\n",
       "        text-align: right;\n",
       "    }\n",
       "</style>\n",
       "<table border=\"1\" class=\"dataframe\">\n",
       "  <thead>\n",
       "    <tr style=\"text-align: right;\">\n",
       "      <th></th>\n",
       "      <th>Food</th>\n",
       "      <th>Measure</th>\n",
       "      <th>Grams</th>\n",
       "      <th>Calories</th>\n",
       "      <th>Protein</th>\n",
       "      <th>Fat</th>\n",
       "      <th>Sat.Fat</th>\n",
       "      <th>Fiber</th>\n",
       "      <th>Carbs</th>\n",
       "      <th>Category</th>\n",
       "    </tr>\n",
       "  </thead>\n",
       "  <tbody>\n",
       "    <tr>\n",
       "      <th>count</th>\n",
       "      <td>335</td>\n",
       "      <td>335</td>\n",
       "      <td>335</td>\n",
       "      <td>334</td>\n",
       "      <td>335</td>\n",
       "      <td>335</td>\n",
       "      <td>333</td>\n",
       "      <td>335</td>\n",
       "      <td>335</td>\n",
       "      <td>335</td>\n",
       "    </tr>\n",
       "    <tr>\n",
       "      <th>unique</th>\n",
       "      <td>329</td>\n",
       "      <td>61</td>\n",
       "      <td>103</td>\n",
       "      <td>152</td>\n",
       "      <td>40</td>\n",
       "      <td>45</td>\n",
       "      <td>38</td>\n",
       "      <td>57</td>\n",
       "      <td>80</td>\n",
       "      <td>16</td>\n",
       "    </tr>\n",
       "    <tr>\n",
       "      <th>top</th>\n",
       "      <td>Butter</td>\n",
       "      <td>1 cup</td>\n",
       "      <td>100</td>\n",
       "      <td>100</td>\n",
       "      <td>1</td>\n",
       "      <td>t</td>\n",
       "      <td>0</td>\n",
       "      <td>0</td>\n",
       "      <td>0</td>\n",
       "      <td>Breads, cereals, fastfood,grains</td>\n",
       "    </tr>\n",
       "    <tr>\n",
       "      <th>freq</th>\n",
       "      <td>3</td>\n",
       "      <td>120</td>\n",
       "      <td>38</td>\n",
       "      <td>14</td>\n",
       "      <td>53</td>\n",
       "      <td>115</td>\n",
       "      <td>174</td>\n",
       "      <td>116</td>\n",
       "      <td>45</td>\n",
       "      <td>45</td>\n",
       "    </tr>\n",
       "  </tbody>\n",
       "</table>\n",
       "</div>"
      ],
      "text/plain": [
       "          Food Measure Grams Calories Protein  Fat Sat.Fat Fiber Carbs  \\\n",
       "count      335     335   335      334     335  335     333   335   335   \n",
       "unique     329      61   103      152      40   45      38    57    80   \n",
       "top     Butter   1 cup   100      100       1    t       0     0     0   \n",
       "freq         3     120    38       14      53  115     174   116    45   \n",
       "\n",
       "                                Category  \n",
       "count                                335  \n",
       "unique                                16  \n",
       "top     Breads, cereals, fastfood,grains  \n",
       "freq                                  45  "
      ]
     },
     "execution_count": 8,
     "metadata": {},
     "output_type": "execute_result"
    }
   ],
   "source": [
    "data.describe()"
   ]
  },
  {
   "cell_type": "code",
   "execution_count": 9,
   "id": "30b6e640",
   "metadata": {},
   "outputs": [],
   "source": [
    "data.dropna(inplace=True)"
   ]
  },
  {
   "cell_type": "code",
   "execution_count": 10,
   "id": "ed7e9be5",
   "metadata": {},
   "outputs": [
    {
     "data": {
      "text/plain": [
       "(332, 10)"
      ]
     },
     "execution_count": 10,
     "metadata": {},
     "output_type": "execute_result"
    }
   ],
   "source": [
    "data.shape"
   ]
  },
  {
   "cell_type": "code",
   "execution_count": 11,
   "id": "3f986643",
   "metadata": {
    "scrolled": true
   },
   "outputs": [],
   "source": [
    "#remove , so we can convert it to numeric\n",
    "data=data.replace(\",\",\"\", regex=True)"
   ]
  },
  {
   "cell_type": "code",
   "execution_count": 12,
   "id": "449b72b0",
   "metadata": {
    "scrolled": true
   },
   "outputs": [],
   "source": [
    "#typo found\n",
    "data=data.replace('t',0)"
   ]
  },
  {
   "cell_type": "code",
   "execution_count": 13,
   "id": "85e0b908",
   "metadata": {
    "scrolled": false
   },
   "outputs": [],
   "source": [
    "#took the average of the calories found at position 90 \n",
    "data.Calories.iloc[90]=(8+44)/2"
   ]
  },
  {
   "cell_type": "code",
   "execution_count": 14,
   "id": "615c2a09",
   "metadata": {
    "scrolled": true
   },
   "outputs": [
    {
     "data": {
      "text/plain": [
       "26.0"
      ]
     },
     "execution_count": 14,
     "metadata": {},
     "output_type": "execute_result"
    }
   ],
   "source": [
    "data.Calories.iloc[90]"
   ]
  },
  {
   "cell_type": "code",
   "execution_count": 15,
   "id": "085b8da4",
   "metadata": {},
   "outputs": [],
   "source": [
    "#typo found at position 90\n",
    "data['Fat']=data['Fat'].replace(\"t'\",0, regex=True)"
   ]
  },
  {
   "cell_type": "code",
   "execution_count": 16,
   "id": "32928fb5",
   "metadata": {},
   "outputs": [],
   "source": [
    "#typo found at position 80\n",
    "data['Fiber']=data['Fiber'].replace('a',0,regex=True)"
   ]
  },
  {
   "cell_type": "code",
   "execution_count": 17,
   "id": "5508355f",
   "metadata": {
    "scrolled": true
   },
   "outputs": [],
   "source": [
    "data['Grams']=pd.to_numeric(data['Grams'])\n",
    "data['Calories']=pd.to_numeric(data['Calories'])\n",
    "data['Protein']=pd.to_numeric(data['Protein'])\n",
    "data['Fat']=pd.to_numeric(data['Fat'])\n",
    "data['Sat.Fat']=pd.to_numeric(data['Sat.Fat'])\n",
    "data['Fiber']=pd.to_numeric(data['Fiber'])\n",
    "data['Carbs']=pd.to_numeric(data['Carbs'])"
   ]
  },
  {
   "cell_type": "code",
   "execution_count": 18,
   "id": "dc1291ca",
   "metadata": {
    "scrolled": false
   },
   "outputs": [
    {
     "data": {
      "text/plain": [
       "Food         object\n",
       "Measure      object\n",
       "Grams         int64\n",
       "Calories    float64\n",
       "Protein       int64\n",
       "Fat           int64\n",
       "Sat.Fat       int64\n",
       "Fiber       float64\n",
       "Carbs       float64\n",
       "Category     object\n",
       "dtype: object"
      ]
     },
     "execution_count": 18,
     "metadata": {},
     "output_type": "execute_result"
    }
   ],
   "source": [
    "data.dtypes"
   ]
  },
  {
   "cell_type": "markdown",
   "id": "c0de13eb",
   "metadata": {},
   "source": [
    "# todo:\n",
    "## scale the data\n",
    "## sort values"
   ]
  },
  {
   "cell_type": "code",
   "execution_count": 19,
   "id": "0f3e6f12",
   "metadata": {},
   "outputs": [
    {
     "data": {
      "text/plain": [
       "[Text(0.5, 0, 'Category'), Text(0, 0.5, 'Count')]"
      ]
     },
     "execution_count": 19,
     "metadata": {},
     "output_type": "execute_result"
    },
    {
     "data": {
      "image/png": "[encoded data removed]",
      "text/plain": [
       "<Figure size 432x288 with 1 Axes>"
      ]
     },
     "metadata": {
      "needs_background": "light"
     },
     "output_type": "display_data"
    }
   ],
   "source": [
    "ax= sns.countplot(x='Category',data=data, order = data['Category'].value_counts().index)\n",
    "ax.set_xticklabels(ax.get_xticklabels(),rotation = 80,)\n",
    "ax.set(xlabel='Category', ylabel='Count')\n"
   ]
  },
  {
   "cell_type": "code",
   "execution_count": 28,
   "id": "8ed353a6",
   "metadata": {
    "scrolled": true
   },
   "outputs": [
    {
     "data": {
      "text/plain": [
       "[Text(0, 0, 'Breads cereals fastfoodgrains'),\n",
       " Text(1, 0, 'Meat Poultry'),\n",
       " Text(2, 0, 'Desserts sweets'),\n",
       " Text(3, 0, 'Dairy products'),\n",
       " Text(4, 0, 'Fruits G-P'),\n",
       " Text(5, 0, 'Vegetables A-E'),\n",
       " Text(6, 0, 'Vegetables R-Z'),\n",
       " Text(7, 0, 'Fruits A-F'),\n",
       " Text(8, 0, 'Fish Seafood'),\n",
       " Text(9, 0, 'Fats Oils Shortenings'),\n",
       " Text(10, 0, 'Vegetables F-P'),\n",
       " Text(11, 0, 'Seeds and Nuts'),\n",
       " Text(12, 0, 'DrinksAlcohol Beverages'),\n",
       " Text(13, 0, 'Soups'),\n",
       " Text(14, 0, 'Fruits R-Z'),\n",
       " Text(15, 0, 'Jams Jellies')]"
      ]
     },
     "execution_count": 28,
     "metadata": {},
     "output_type": "execute_result"
    },
    {
     "data": {
      "image/png": "[encoded data removed]",
      "text/plain": [
       "<Figure size 432x288 with 1 Axes>"
      ]
     },
     "metadata": {
      "needs_background": "light"
     },
     "output_type": "display_data"
    }
   ],
   "source": [
    "# fig = sns.barplot(x='Protein',y='Category', data=data, order = data['Category'].value_counts().index)\n",
    "\n",
    "ax = sns.barplot(y=\"Protein\", x=\"Category\", data=data, estimator=sum,order = data['Category'].value_counts().index)\n",
    "ax.set_xticklabels(ax.get_xticklabels(),rotation = 90)\n"
   ]
  },
  {
   "cell_type": "code",
   "execution_count": 21,
   "id": "e88cffb6",
   "metadata": {
    "scrolled": false
   },
   "outputs": [
    {
     "data": {
      "text/plain": [
       "<AxesSubplot:xlabel='Calories', ylabel='Category'>"
      ]
     },
     "execution_count": 21,
     "metadata": {},
     "output_type": "execute_result"
    },
    {
     "data": {
      "image/png": "[encoded data removed]",
      "text/plain": [
       "<Figure size 432x288 with 1 Axes>"
      ]
     },
     "metadata": {
      "needs_background": "light"
     },
     "output_type": "display_data"
    }
   ],
   "source": [
    "sns.boxplot(data.Calories.sort_values(ascending=False).head(50),data.Category)"
   ]
  },
  {
   "cell_type": "code",
   "execution_count": 22,
   "id": "abb0c5a8",
   "metadata": {
    "scrolled": true
   },
   "outputs": [
    {
     "data": {
      "text/plain": [
       "<AxesSubplot:xlabel='Fat', ylabel='Category'>"
      ]
     },
     "execution_count": 22,
     "metadata": {},
     "output_type": "execute_result"
    },
    {
     "data": {
      "image/png": "[encoded data removed]",
      "text/plain": [
       "<Figure size 432x288 with 1 Axes>"
      ]
     },
     "metadata": {
      "needs_background": "light"
     },
     "output_type": "display_data"
    }
   ],
   "source": [
    "fat=data.Fat.sort_values(ascending=False).head(50)\n",
    "sns.barplot(fat,data.Category)"
   ]
  },
  {
   "cell_type": "code",
   "execution_count": null,
   "id": "1047464b",
   "metadata": {},
   "outputs": [],
   "source": []
  },
  {
   "cell_type": "code",
   "execution_count": 23,
   "id": "7e64de0a",
   "metadata": {},
   "outputs": [],
   "source": [
    "# data['Count']=data.Category.groupby(data.Category)\n",
    "# data\n",
    "# df['Count'] = pd.Series(data.Category.groupby(data.Category))\n",
    "# df = pd.DataFrame({'Category': Category,\n",
    "#                    'Count': Count})\n"
   ]
  },
  {
   "cell_type": "code",
   "execution_count": 24,
   "id": "4aeb62d3",
   "metadata": {},
   "outputs": [],
   "source": [
    "# df=['Category'],['Count']\n",
    "# df['Count'] = pd.Series(data.Category.groupby(data.Category))\n",
    "# df = pd.DataFrame({'Category':data['Category'],\n",
    "#                    'Count': data['Count']})"
   ]
  },
  {
   "cell_type": "code",
   "execution_count": 25,
   "id": "60a5ac36",
   "metadata": {},
   "outputs": [],
   "source": [
    "# df"
   ]
  }
 ],
 "metadata": {
  "kernelspec": {
   "display_name": "Python 3.10.4 ('base')",
   "language": "python",
   "name": "python3"
  },
  "language_info": {
   "codemirror_mode": {
    "name": "ipython",
    "version": 3
   },
   "file_extension": ".py",
   "mimetype": "text/x-python",
   "name": "python",
   "nbconvert_exporter": "python",
   "pygments_lexer": "ipython3",
   "version": "3.10.4"
  },
  "vscode": {
   "interpreter": {
    "hash": "d4d1e4263499bec80672ea0156c357c1ee493ec2b1c70f0acce89fc37c4a6abe"
   }
  }
 },
 "nbformat": 4,
 "nbformat_minor": 5
}
